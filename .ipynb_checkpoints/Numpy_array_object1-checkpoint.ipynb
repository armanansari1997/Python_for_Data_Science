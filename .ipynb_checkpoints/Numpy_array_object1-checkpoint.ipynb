{
 "cells": [
  {
   "cell_type": "markdown",
   "id": "9077f4ef",
   "metadata": {},
   "source": [
    "# NumPy Arrays"
   ]
  },
  {
   "cell_type": "markdown",
   "id": "f67ed740",
   "metadata": {},
   "source": [
    "**python objects**\n",
    "\n",
    "1. high-level number objects: integers, floating point\n",
    "2. containers: list (costless insertion and append), dictionaries (fast lookup)"
   ]
  },
  {
   "cell_type": "markdown",
   "id": "2839cc1e",
   "metadata": {},
   "source": [
    "**Numpy provides:**\n",
    "\n",
    "1. Extension package to python for multi-dimentional Arrays\n",
    "2. closer to hardware (efficiency)\n",
    "3. design for scientific computation (convenience)\n",
    "4. Also known as Array oriented computing"
   ]
  },
  {
   "cell_type": "markdown",
   "id": "bc6e80be",
   "metadata": {},
   "source": [
    "**There are 2 ways of creating numpy array**"
   ]
  },
  {
   "cell_type": "code",
   "execution_count": 6,
   "id": "a4efbe3c",
   "metadata": {},
   "outputs": [
    {
     "name": "stdout",
     "output_type": "stream",
     "text": [
      "[0 1 2 3]\n",
      "[0 1 2 3 4 5 6 7 8 9]\n"
     ]
    }
   ],
   "source": [
    "import numpy as np\n",
    "a = np.array([0, 1, 2, 3])\n",
    "print(a)\n",
    "\n",
    "print(np.arange(10))"
   ]
  },
  {
   "cell_type": "markdown",
   "id": "0f4b33fa",
   "metadata": {},
   "source": [
    "**Why it is useful:** Memory-efficient container that provides fast numerical operations"
   ]
  },
  {
   "cell_type": "code",
   "execution_count": 13,
   "id": "592a37cb",
   "metadata": {},
   "outputs": [
    {
     "name": "stdout",
     "output_type": "stream",
     "text": [
      "432 µs ± 42.7 µs per loop (mean ± std. dev. of 7 runs, 1000 loops each)\n"
     ]
    }
   ],
   "source": [
    "# Python lists\n",
    "# from 0  to 999\n",
    "L = range(1000)\n",
    "\n",
    "# %timeit will display how much time it is taking for iterate every loop\n",
    "%timeit [num**2 for num in L]"
   ]
  },
  {
   "cell_type": "code",
   "execution_count": 14,
   "id": "53304dd2",
   "metadata": {},
   "outputs": [
    {
     "name": "stdout",
     "output_type": "stream",
     "text": [
      "892 ns ± 36.7 ns per loop (mean ± std. dev. of 7 runs, 1000000 loops each)\n"
     ]
    }
   ],
   "source": [
    "# Numpy arrays\n",
    "a = np.array(1000)\n",
    "\n",
    "# taking lesser time than python lists\n",
    "%timeit a**2"
   ]
  },
  {
   "cell_type": "markdown",
   "id": "8e506f6c",
   "metadata": {},
   "source": [
    "# 1. Creating Arrays\n",
    "\n",
    "**1.1 Manual Construction of Arrays**"
   ]
  },
  {
   "cell_type": "markdown",
   "id": "735f4a2e",
   "metadata": {},
   "source": [
    "1. 1D array --> Vector\n",
    "2. 2D array --> Matrix\n",
    "3. nD array --> Tensor\n"
   ]
  },
  {
   "cell_type": "code",
   "execution_count": 15,
   "id": "5ae360c2",
   "metadata": {},
   "outputs": [
    {
     "data": {
      "text/plain": [
       "array([0, 1, 2, 3])"
      ]
     },
     "execution_count": 15,
     "metadata": {},
     "output_type": "execute_result"
    }
   ],
   "source": [
    "# 1-D\n",
    "\n",
    "a = np.array([0, 1, 2, 3])\n",
    "\n",
    "a"
   ]
  },
  {
   "cell_type": "code",
   "execution_count": 16,
   "id": "3aaf30d3",
   "metadata": {},
   "outputs": [
    {
     "data": {
      "text/plain": [
       "1"
      ]
     },
     "execution_count": 16,
     "metadata": {},
     "output_type": "execute_result"
    }
   ],
   "source": [
    "# print dimentions\n",
    "\n",
    "a.ndim"
   ]
  },
  {
   "cell_type": "code",
   "execution_count": 17,
   "id": "ec8a0f5b",
   "metadata": {},
   "outputs": [
    {
     "data": {
      "text/plain": [
       "(4,)"
      ]
     },
     "execution_count": 17,
     "metadata": {},
     "output_type": "execute_result"
    }
   ],
   "source": [
    "# print shape\n",
    "\n",
    "a.shape"
   ]
  },
  {
   "cell_type": "code",
   "execution_count": 18,
   "id": "f441a230",
   "metadata": {},
   "outputs": [
    {
     "data": {
      "text/plain": [
       "4"
      ]
     },
     "execution_count": 18,
     "metadata": {},
     "output_type": "execute_result"
    }
   ],
   "source": [
    "# print size of array\n",
    "\n",
    "len(a)"
   ]
  },
  {
   "cell_type": "code",
   "execution_count": 19,
   "id": "7dd6b52d",
   "metadata": {},
   "outputs": [
    {
     "data": {
      "text/plain": [
       "array([[0, 1, 2],\n",
       "       [4, 5, 6]])"
      ]
     },
     "execution_count": 19,
     "metadata": {},
     "output_type": "execute_result"
    }
   ],
   "source": [
    "# 2-D, 3-D, ....\n",
    "\n",
    "b = np.array([[0, 1, 2], [4, 5, 6]])\n",
    "\n",
    "b"
   ]
  },
  {
   "cell_type": "code",
   "execution_count": 20,
   "id": "295075cf",
   "metadata": {},
   "outputs": [
    {
     "data": {
      "text/plain": [
       "2"
      ]
     },
     "execution_count": 20,
     "metadata": {},
     "output_type": "execute_result"
    }
   ],
   "source": [
    "b.ndim"
   ]
  },
  {
   "cell_type": "code",
   "execution_count": 21,
   "id": "02a417a8",
   "metadata": {},
   "outputs": [
    {
     "data": {
      "text/plain": [
       "(2, 3)"
      ]
     },
     "execution_count": 21,
     "metadata": {},
     "output_type": "execute_result"
    }
   ],
   "source": [
    "b.shape"
   ]
  },
  {
   "cell_type": "code",
   "execution_count": 22,
   "id": "a8e44d01",
   "metadata": {},
   "outputs": [
    {
     "data": {
      "text/plain": [
       "2"
      ]
     },
     "execution_count": 22,
     "metadata": {},
     "output_type": "execute_result"
    }
   ],
   "source": [
    "len(b)  # returns the size of the first dimention"
   ]
  },
  {
   "cell_type": "code",
   "execution_count": 37,
   "id": "661524c3",
   "metadata": {},
   "outputs": [
    {
     "data": {
      "text/plain": [
       "array([[[0, 1, 2],\n",
       "        [3, 4, 5],\n",
       "        [6, 7, 8]]])"
      ]
     },
     "execution_count": 37,
     "metadata": {},
     "output_type": "execute_result"
    }
   ],
   "source": [
    "# 3-D arrays\n",
    "\n",
    "c = np.array([[[0, 1, 2], [3, 4, 5], [6, 7, 8]]])\n",
    "\n",
    "c"
   ]
  },
  {
   "cell_type": "code",
   "execution_count": 38,
   "id": "e2fbc3a0",
   "metadata": {},
   "outputs": [
    {
     "data": {
      "text/plain": [
       "array([[[0, 1],\n",
       "        [2, 3]],\n",
       "\n",
       "       [[4, 5],\n",
       "        [6, 7]]])"
      ]
     },
     "execution_count": 38,
     "metadata": {},
     "output_type": "execute_result"
    }
   ],
   "source": [
    "d = np.array([[[0, 1], [2, 3]], [[4, 5], [6, 7]]])\n",
    "\n",
    "d"
   ]
  },
  {
   "cell_type": "code",
   "execution_count": 40,
   "id": "92c3a4ee",
   "metadata": {},
   "outputs": [
    {
     "data": {
      "text/plain": [
       "3"
      ]
     },
     "execution_count": 40,
     "metadata": {},
     "output_type": "execute_result"
    }
   ],
   "source": [
    "c.ndim"
   ]
  },
  {
   "cell_type": "code",
   "execution_count": 41,
   "id": "34e6e5de",
   "metadata": {},
   "outputs": [
    {
     "data": {
      "text/plain": [
       "3"
      ]
     },
     "execution_count": 41,
     "metadata": {},
     "output_type": "execute_result"
    }
   ],
   "source": [
    "d.ndim"
   ]
  },
  {
   "cell_type": "code",
   "execution_count": 42,
   "id": "25b88a54",
   "metadata": {},
   "outputs": [
    {
     "data": {
      "text/plain": [
       "(1, 3, 3)"
      ]
     },
     "execution_count": 42,
     "metadata": {},
     "output_type": "execute_result"
    }
   ],
   "source": [
    "c.shape"
   ]
  },
  {
   "cell_type": "code",
   "execution_count": 39,
   "id": "4512194b",
   "metadata": {},
   "outputs": [
    {
     "data": {
      "text/plain": [
       "3"
      ]
     },
     "execution_count": 39,
     "metadata": {},
     "output_type": "execute_result"
    }
   ],
   "source": [
    "c.ndim"
   ]
  },
  {
   "cell_type": "code",
   "execution_count": 43,
   "id": "45ca8807",
   "metadata": {},
   "outputs": [
    {
     "data": {
      "text/plain": [
       "(2, 2, 2)"
      ]
     },
     "execution_count": 43,
     "metadata": {},
     "output_type": "execute_result"
    }
   ],
   "source": [
    "d.shape"
   ]
  },
  {
   "cell_type": "code",
   "execution_count": 44,
   "id": "a6c16053",
   "metadata": {},
   "outputs": [
    {
     "data": {
      "text/plain": [
       "1"
      ]
     },
     "execution_count": 44,
     "metadata": {},
     "output_type": "execute_result"
    }
   ],
   "source": [
    "len(c) # returns the size of the first dimention"
   ]
  },
  {
   "cell_type": "code",
   "execution_count": 46,
   "id": "f8db5bf8",
   "metadata": {},
   "outputs": [
    {
     "data": {
      "text/plain": [
       "2"
      ]
     },
     "execution_count": 46,
     "metadata": {},
     "output_type": "execute_result"
    }
   ],
   "source": [
    "len(d) # returns the size of the first dimention"
   ]
  },
  {
   "cell_type": "markdown",
   "id": "d0185ce1",
   "metadata": {},
   "source": [
    "**1.2 Functions for creating arrays**"
   ]
  },
  {
   "cell_type": "code",
   "execution_count": 49,
   "id": "1b989c27",
   "metadata": {},
   "outputs": [
    {
     "data": {
      "text/plain": [
       "array([0, 1, 2, 3, 4, 5, 6, 7, 8, 9])"
      ]
     },
     "execution_count": 49,
     "metadata": {},
     "output_type": "execute_result"
    }
   ],
   "source": [
    "# using arange function \n",
    "\n",
    "# arange is an array-valued version of built-in python range function\n",
    "\n",
    "a = np.arange(10) # 0 ....... n-1\n",
    "\n",
    "a"
   ]
  },
  {
   "cell_type": "code",
   "execution_count": 50,
   "id": "0bc30e8a",
   "metadata": {},
   "outputs": [
    {
     "data": {
      "text/plain": [
       "array([1, 3, 5, 7, 9])"
      ]
     },
     "execution_count": 50,
     "metadata": {},
     "output_type": "execute_result"
    }
   ],
   "source": [
    "b = np.arange(1, 10, 2) # start, end (exclusive), step\n",
    "\n",
    "b"
   ]
  },
  {
   "cell_type": "code",
   "execution_count": 55,
   "id": "b7f393ad",
   "metadata": {},
   "outputs": [
    {
     "data": {
      "text/plain": [
       "array([0. , 0.2, 0.4, 0.6, 0.8, 1. ])"
      ]
     },
     "execution_count": 55,
     "metadata": {},
     "output_type": "execute_result"
    }
   ],
   "source": [
    "# using linspace (liear space)\n",
    "# Creating a list of size 6 with the equal no of space within 1\n",
    "\n",
    "a = np.linspace(0, 1, 6) # start, end, number of points\n",
    "\n",
    "a"
   ]
  },
  {
   "cell_type": "code",
   "execution_count": 56,
   "id": "5b868e9f",
   "metadata": {},
   "outputs": [
    {
     "data": {
      "text/plain": [
       "array([[1., 1., 1.],\n",
       "       [1., 1., 1.],\n",
       "       [1., 1., 1.]])"
      ]
     },
     "execution_count": 56,
     "metadata": {},
     "output_type": "execute_result"
    }
   ],
   "source": [
    "# Common Arrays\n",
    "# passing tuple of number\n",
    "\n",
    "a = np.ones((3, 3)) \n",
    "\n",
    "a"
   ]
  },
  {
   "cell_type": "code",
   "execution_count": 58,
   "id": "13375197",
   "metadata": {},
   "outputs": [
    {
     "data": {
      "text/plain": [
       "array([[0., 0., 0.],\n",
       "       [0., 0., 0.],\n",
       "       [0., 0., 0.]])"
      ]
     },
     "execution_count": 58,
     "metadata": {},
     "output_type": "execute_result"
    }
   ],
   "source": [
    "b = np.zeros((3, 3))\n",
    "\n",
    "b"
   ]
  },
  {
   "cell_type": "code",
   "execution_count": null,
   "id": "5c3f92d4",
   "metadata": {},
   "outputs": [],
   "source": []
  }
 ],
 "metadata": {
  "kernelspec": {
   "display_name": "Python 3 (ipykernel)",
   "language": "python",
   "name": "python3"
  },
  "language_info": {
   "codemirror_mode": {
    "name": "ipython",
    "version": 3
   },
   "file_extension": ".py",
   "mimetype": "text/x-python",
   "name": "python",
   "nbconvert_exporter": "python",
   "pygments_lexer": "ipython3",
   "version": "3.9.7"
  }
 },
 "nbformat": 4,
 "nbformat_minor": 5
}
