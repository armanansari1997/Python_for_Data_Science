{
 "cells": [
  {
   "cell_type": "markdown",
   "id": "eae08121",
   "metadata": {},
   "source": [
    "# Pyplot Tutorial:\n",
    "\n",
    "**matplotlib pyplot** is a collection of command style functions that make matplotlib work like MATLAB.\n"
   ]
  },
  {
   "cell_type": "markdown",
   "id": "609a7fe7",
   "metadata": {},
   "source": [
    "Each pyplot functions make some changes to a figure: e.g., creates a figure, creates a plotting area in a figure, plots some lines in a plotting area, decorates the plot with labels e"
   ]
  }
 ],
 "metadata": {
  "kernelspec": {
   "display_name": "Python 3 (ipykernel)",
   "language": "python",
   "name": "python3"
  },
  "language_info": {
   "codemirror_mode": {
    "name": "ipython",
    "version": 3
   },
   "file_extension": ".py",
   "mimetype": "text/x-python",
   "name": "python",
   "nbconvert_exporter": "python",
   "pygments_lexer": "ipython3",
   "version": "3.9.7"
  }
 },
 "nbformat": 4,
 "nbformat_minor": 5
}
