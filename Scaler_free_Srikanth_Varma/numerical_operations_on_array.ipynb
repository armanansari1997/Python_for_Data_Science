{
 "cells": [
  {
   "cell_type": "code",
   "execution_count": 2,
   "id": "1f2ef91d",
   "metadata": {},
   "outputs": [],
   "source": [
    "import numpy as np"
   ]
  },
  {
   "cell_type": "markdown",
   "id": "4c5fa6df",
   "metadata": {},
   "source": [
    "# Elementwise Operations\n",
    "\n",
    "**1. Basic Operations**\n",
    "\n",
    "\n",
    "**with Scalars**\n",
    "\n"
   ]
  },
  {
   "cell_type": "code",
   "execution_count": 3,
   "id": "85d7875d",
   "metadata": {},
   "outputs": [
    {
     "data": {
      "text/plain": [
       "array([2, 3, 4, 5])"
      ]
     },
     "execution_count": 3,
     "metadata": {},
     "output_type": "execute_result"
    }
   ],
   "source": [
    "a = np.array([1, 2, 3, 4]) # creates an array\n",
    "\n",
    "a + 1"
   ]
  },
  {
   "cell_type": "code",
   "execution_count": 4,
   "id": "fc94cc44",
   "metadata": {},
   "outputs": [
    {
     "name": "stdout",
     "output_type": "stream",
     "text": [
      "[ 1  4  9 16]\n"
     ]
    },
    {
     "data": {
      "text/plain": [
       "array([ 1,  4,  9, 16], dtype=int32)"
      ]
     },
     "execution_count": 4,
     "metadata": {},
     "output_type": "execute_result"
    }
   ],
   "source": [
    "print(a ** 2)\n",
    "\n",
    "a ** 2"
   ]
  },
  {
   "cell_type": "markdown",
   "id": "c0067197",
   "metadata": {},
   "source": [
    "**All arithmetic operates elementwise**"
   ]
  },
  {
   "cell_type": "code",
   "execution_count": 5,
   "id": "97ec21e8",
   "metadata": {},
   "outputs": [
    {
     "data": {
      "text/plain": [
       "array([-1.,  0.,  1.,  2.])"
      ]
     },
     "execution_count": 5,
     "metadata": {},
     "output_type": "execute_result"
    }
   ],
   "source": [
    "# a = [1, 2, 3, 4]\n",
    "\n",
    "b = np.ones(4) + 1  # b = [2, 2, 2, 2]\n",
    "\n",
    "a - b"
   ]
  },
  {
   "cell_type": "code",
   "execution_count": 6,
   "id": "4ea0e21d",
   "metadata": {},
   "outputs": [
    {
     "data": {
      "text/plain": [
       "array([2., 4., 6., 8.])"
      ]
     },
     "execution_count": 6,
     "metadata": {},
     "output_type": "execute_result"
    }
   ],
   "source": [
    "a * b"
   ]
  },
  {
   "cell_type": "code",
   "execution_count": 7,
   "id": "20b4e9e1",
   "metadata": {},
   "outputs": [
    {
     "name": "stdout",
     "output_type": "stream",
     "text": [
      "[[ 1  0  0  0]\n",
      " [ 0  4  0  0]\n",
      " [ 0  0  9  0]\n",
      " [ 0  0  0 16]]\n",
      "***************\n",
      "[[ 1  0  0  0]\n",
      " [ 0  4  0  0]\n",
      " [ 0  0  9  0]\n",
      " [ 0  0  0 16]]\n"
     ]
    }
   ],
   "source": [
    "# Matrix multiplication\n",
    "\n",
    "c = np.diag([1, 2, 3, 4])\n",
    "\n",
    "# Rows will be multiplied with columns\n",
    "# There are 2 ways of multiplying matrix\n",
    "print(c * c)  # way-1\n",
    "print('***************')\n",
    "print(c.dot(c))  # way-2"
   ]
  },
  {
   "cell_type": "markdown",
   "id": "cf8c9c04",
   "metadata": {},
   "source": [
    "**Comparisions**"
   ]
  },
  {
   "cell_type": "code",
   "execution_count": 8,
   "id": "d0a2724b",
   "metadata": {},
   "outputs": [
    {
     "name": "stdout",
     "output_type": "stream",
     "text": [
      "[False  True False  True]\n",
      "[False  True False  True]\n"
     ]
    }
   ],
   "source": [
    "# Elementwise comparision\n",
    "\n",
    "a = np.array([1, 2, 3, 4])\n",
    "b = np.array([5, 2, 2, 4])\n",
    "\n",
    "print(a == b)\n",
    "\n",
    "print(np.equal(a, b))"
   ]
  },
  {
   "cell_type": "code",
   "execution_count": 9,
   "id": "a4526e07",
   "metadata": {},
   "outputs": [
    {
     "data": {
      "text/plain": [
       "array([False, False,  True, False])"
      ]
     },
     "execution_count": 9,
     "metadata": {},
     "output_type": "execute_result"
    }
   ],
   "source": [
    "a > b"
   ]
  },
  {
   "cell_type": "code",
   "execution_count": 10,
   "id": "bb10d162",
   "metadata": {},
   "outputs": [
    {
     "data": {
      "text/plain": [
       "False"
      ]
     },
     "execution_count": 10,
     "metadata": {},
     "output_type": "execute_result"
    }
   ],
   "source": [
    "# Array-wise comparisions\n",
    "# Recommended way to compare arrays\n",
    "a = np.array([1, 2, 3, 4])\n",
    "b = np.array([5, 2, 2, 4])\n",
    "c = np.array([1, 2, 3, 4])\n",
    "\n",
    "np.array_equal(a, b)"
   ]
  },
  {
   "cell_type": "code",
   "execution_count": 11,
   "id": "9bef81d7",
   "metadata": {},
   "outputs": [
    {
     "data": {
      "text/plain": [
       "True"
      ]
     },
     "execution_count": 11,
     "metadata": {},
     "output_type": "execute_result"
    }
   ],
   "source": [
    "np.array_equal(a, c)"
   ]
  },
  {
   "cell_type": "markdown",
   "id": "346abceb",
   "metadata": {},
   "source": [
    "**Logical Operations**"
   ]
  },
  {
   "cell_type": "code",
   "execution_count": 12,
   "id": "36162f79",
   "metadata": {},
   "outputs": [
    {
     "data": {
      "text/plain": [
       "array([ True,  True,  True, False])"
      ]
     },
     "execution_count": 12,
     "metadata": {},
     "output_type": "execute_result"
    }
   ],
   "source": [
    "a = np.array([1, 1, 0, 0], dtype=bool)\n",
    "b = np.array([1, 0, 1, 0], dtype=bool)\n",
    "\n",
    "np.logical_or(a, b) "
   ]
  },
  {
   "cell_type": "code",
   "execution_count": 13,
   "id": "d733dce2",
   "metadata": {},
   "outputs": [
    {
     "data": {
      "text/plain": [
       "array([ True, False, False, False])"
      ]
     },
     "execution_count": 13,
     "metadata": {},
     "output_type": "execute_result"
    }
   ],
   "source": [
    "np.logical_and(a, b)"
   ]
  },
  {
   "cell_type": "markdown",
   "id": "4ca4453c",
   "metadata": {},
   "source": [
    "**Transcendental Functions**"
   ]
  },
  {
   "cell_type": "code",
   "execution_count": 14,
   "id": "11450c48",
   "metadata": {},
   "outputs": [
    {
     "data": {
      "text/plain": [
       "array([ 0.        ,  0.84147098,  0.90929743,  0.14112001, -0.7568025 ])"
      ]
     },
     "execution_count": 14,
     "metadata": {},
     "output_type": "execute_result"
    }
   ],
   "source": [
    "a = np.arange(5)\n",
    "\n",
    "np.sin(a)"
   ]
  },
  {
   "cell_type": "code",
   "execution_count": 15,
   "id": "f2dd1845",
   "metadata": {},
   "outputs": [
    {
     "name": "stderr",
     "output_type": "stream",
     "text": [
      "C:\\Users\\ARMAN~1.ANS\\AppData\\Local\\Temp/ipykernel_13468/176755284.py:1: RuntimeWarning: divide by zero encountered in log\n",
      "  np.log(a)\n"
     ]
    },
    {
     "data": {
      "text/plain": [
       "array([      -inf, 0.        , 0.69314718, 1.09861229, 1.38629436])"
      ]
     },
     "execution_count": 15,
     "metadata": {},
     "output_type": "execute_result"
    }
   ],
   "source": [
    "np.log(a)"
   ]
  },
  {
   "cell_type": "code",
   "execution_count": 16,
   "id": "048c375d",
   "metadata": {},
   "outputs": [
    {
     "data": {
      "text/plain": [
       "array([ 1.        ,  2.71828183,  7.3890561 , 20.08553692, 54.59815003])"
      ]
     },
     "execution_count": 16,
     "metadata": {},
     "output_type": "execute_result"
    }
   ],
   "source": [
    "np.exp(a)  # evaluates e^x for each element in a given input"
   ]
  },
  {
   "cell_type": "markdown",
   "id": "7c6c2d36",
   "metadata": {},
   "source": [
    "**Shape Mismatch**"
   ]
  },
  {
   "cell_type": "code",
   "execution_count": 17,
   "id": "81d2a175",
   "metadata": {},
   "outputs": [
    {
     "ename": "ValueError",
     "evalue": "operands could not be broadcast together with shapes (4,) (2,) ",
     "output_type": "error",
     "traceback": [
      "\u001b[1;31m---------------------------------------------------------------------------\u001b[0m",
      "\u001b[1;31mValueError\u001b[0m                                Traceback (most recent call last)",
      "\u001b[1;32mC:\\Users\\ARMAN~1.ANS\\AppData\\Local\\Temp/ipykernel_13468/911438883.py\u001b[0m in \u001b[0;36m<module>\u001b[1;34m\u001b[0m\n\u001b[0;32m      1\u001b[0m \u001b[0ma\u001b[0m \u001b[1;33m=\u001b[0m \u001b[0mnp\u001b[0m\u001b[1;33m.\u001b[0m\u001b[0marange\u001b[0m\u001b[1;33m(\u001b[0m\u001b[1;36m4\u001b[0m\u001b[1;33m)\u001b[0m\u001b[1;33m\u001b[0m\u001b[1;33m\u001b[0m\u001b[0m\n\u001b[1;32m----> 2\u001b[1;33m \u001b[0ma\u001b[0m \u001b[1;33m+\u001b[0m \u001b[0mnp\u001b[0m\u001b[1;33m.\u001b[0m\u001b[0marray\u001b[0m\u001b[1;33m(\u001b[0m\u001b[1;33m[\u001b[0m\u001b[1;36m1\u001b[0m\u001b[1;33m,\u001b[0m \u001b[1;36m2\u001b[0m\u001b[1;33m]\u001b[0m\u001b[1;33m)\u001b[0m\u001b[1;33m\u001b[0m\u001b[1;33m\u001b[0m\u001b[0m\n\u001b[0m",
      "\u001b[1;31mValueError\u001b[0m: operands could not be broadcast together with shapes (4,) (2,) "
     ]
    }
   ],
   "source": [
    "a = np.arange(4)\n",
    "a + np.array([1, 2])"
   ]
  },
  {
   "cell_type": "markdown",
   "id": "22126e08",
   "metadata": {},
   "source": [
    "# Basic Reductions\n",
    "\n",
    "\n",
    "**Computing Sums**\n",
    "\n"
   ]
  },
  {
   "cell_type": "code",
   "execution_count": 18,
   "id": "16be9a72",
   "metadata": {},
   "outputs": [
    {
     "data": {
      "text/plain": [
       "10"
      ]
     },
     "execution_count": 18,
     "metadata": {},
     "output_type": "execute_result"
    }
   ],
   "source": [
    "x = np.array([1, 2, 3, 4])\n",
    "np.sum(x)"
   ]
  },
  {
   "cell_type": "code",
   "execution_count": 19,
   "id": "ee2bc43d",
   "metadata": {},
   "outputs": [
    {
     "data": {
      "text/plain": [
       "array([[1, 1],\n",
       "       [2, 2]])"
      ]
     },
     "execution_count": 19,
     "metadata": {},
     "output_type": "execute_result"
    }
   ],
   "source": [
    "# Sum by rows and by columns\n",
    "\n",
    "x = np.array([[1, 1], [2, 2]])\n",
    "\n",
    "x"
   ]
  },
  {
   "cell_type": "code",
   "execution_count": 20,
   "id": "f752bbc3",
   "metadata": {},
   "outputs": [
    {
     "data": {
      "text/plain": [
       "array([3, 3])"
      ]
     },
     "execution_count": 20,
     "metadata": {},
     "output_type": "execute_result"
    }
   ],
   "source": [
    "x.sum(axis=0)  # columns first dimention"
   ]
  },
  {
   "cell_type": "code",
   "execution_count": 21,
   "id": "5c9b62de",
   "metadata": {},
   "outputs": [
    {
     "data": {
      "text/plain": [
       "array([2, 4])"
      ]
     },
     "execution_count": 21,
     "metadata": {},
     "output_type": "execute_result"
    }
   ],
   "source": [
    "x.sum(axis=1)  # rows (second dimention)"
   ]
  },
  {
   "cell_type": "markdown",
   "id": "6340fcd7",
   "metadata": {},
   "source": [
    "**Other Reductions**"
   ]
  },
  {
   "cell_type": "code",
   "execution_count": 22,
   "id": "2a82af98",
   "metadata": {},
   "outputs": [
    {
     "data": {
      "text/plain": [
       "1"
      ]
     },
     "execution_count": 22,
     "metadata": {},
     "output_type": "execute_result"
    }
   ],
   "source": [
    "x = np.array([1, 3, 2])\n",
    "\n",
    "x.min()"
   ]
  },
  {
   "cell_type": "code",
   "execution_count": 23,
   "id": "e5a46949",
   "metadata": {},
   "outputs": [
    {
     "data": {
      "text/plain": [
       "3"
      ]
     },
     "execution_count": 23,
     "metadata": {},
     "output_type": "execute_result"
    }
   ],
   "source": [
    "x.max()"
   ]
  },
  {
   "cell_type": "code",
   "execution_count": 24,
   "id": "bbfb11c0",
   "metadata": {},
   "outputs": [
    {
     "data": {
      "text/plain": [
       "0"
      ]
     },
     "execution_count": 24,
     "metadata": {},
     "output_type": "execute_result"
    }
   ],
   "source": [
    "x.argmin()  # Returns index of minimum element"
   ]
  },
  {
   "cell_type": "code",
   "execution_count": 25,
   "id": "7f07e5da",
   "metadata": {},
   "outputs": [
    {
     "data": {
      "text/plain": [
       "1"
      ]
     },
     "execution_count": 25,
     "metadata": {},
     "output_type": "execute_result"
    }
   ],
   "source": [
    "x.argmax() # Returns index of maximum element"
   ]
  },
  {
   "cell_type": "markdown",
   "id": "0062c136",
   "metadata": {},
   "source": [
    "**Logical Operations**"
   ]
  },
  {
   "cell_type": "code",
   "execution_count": 26,
   "id": "bee4c174",
   "metadata": {},
   "outputs": [
    {
     "data": {
      "text/plain": [
       "False"
      ]
     },
     "execution_count": 26,
     "metadata": {},
     "output_type": "execute_result"
    }
   ],
   "source": [
    "np.all([True, True, False])"
   ]
  },
  {
   "cell_type": "code",
   "execution_count": 27,
   "id": "544d4fc8",
   "metadata": {},
   "outputs": [
    {
     "data": {
      "text/plain": [
       "True"
      ]
     },
     "execution_count": 27,
     "metadata": {},
     "output_type": "execute_result"
    }
   ],
   "source": [
    "np.any([True, True, False])"
   ]
  },
  {
   "cell_type": "code",
   "execution_count": 28,
   "id": "f5290df4",
   "metadata": {},
   "outputs": [
    {
     "data": {
      "text/plain": [
       "False"
      ]
     },
     "execution_count": 28,
     "metadata": {},
     "output_type": "execute_result"
    }
   ],
   "source": [
    "# Note: can be used for array comparisions\n",
    "\n",
    "a = np.zeros((50, 50))\n",
    "\n",
    "np.any(a != 0)"
   ]
  },
  {
   "cell_type": "code",
   "execution_count": 29,
   "id": "06e8ccdc",
   "metadata": {},
   "outputs": [
    {
     "data": {
      "text/plain": [
       "True"
      ]
     },
     "execution_count": 29,
     "metadata": {},
     "output_type": "execute_result"
    }
   ],
   "source": [
    "np.all(a == a)"
   ]
  },
  {
   "cell_type": "code",
   "execution_count": 30,
   "id": "7e61e82e",
   "metadata": {},
   "outputs": [
    {
     "data": {
      "text/plain": [
       "True"
      ]
     },
     "execution_count": 30,
     "metadata": {},
     "output_type": "execute_result"
    }
   ],
   "source": [
    "a = np.array([1, 2, 3, 2])\n",
    "b = np.array([2, 2, 3, 2])\n",
    "c = np.array([6, 4, 4, 5])\n",
    "\n",
    "# [[True, True, True, True] & [True, True, True, True]].all()\n",
    "# [True, True, True, True].all()\n",
    "\n",
    "((a <= b) & (b <= c)).all()"
   ]
  },
  {
   "cell_type": "markdown",
   "id": "fd12a829",
   "metadata": {},
   "source": [
    "**Statistics**"
   ]
  },
  {
   "cell_type": "code",
   "execution_count": 31,
   "id": "d7129c05",
   "metadata": {},
   "outputs": [
    {
     "data": {
      "text/plain": [
       "1.75"
      ]
     },
     "execution_count": 31,
     "metadata": {},
     "output_type": "execute_result"
    }
   ],
   "source": [
    "x = np.array([1, 2, 3, 1])\n",
    "y = np.array([[1, 2, 3], [5, 6, 1]])\n",
    "\n",
    "# Avg of elements in x\n",
    "x.mean()"
   ]
  },
  {
   "cell_type": "code",
   "execution_count": 32,
   "id": "365b23eb",
   "metadata": {},
   "outputs": [
    {
     "data": {
      "text/plain": [
       "1.5"
      ]
     },
     "execution_count": 32,
     "metadata": {},
     "output_type": "execute_result"
    }
   ],
   "source": [
    "np.median(x)"
   ]
  },
  {
   "cell_type": "code",
   "execution_count": 33,
   "id": "15f90eb1",
   "metadata": {},
   "outputs": [
    {
     "data": {
      "text/plain": [
       "array([2., 5.])"
      ]
     },
     "execution_count": 33,
     "metadata": {},
     "output_type": "execute_result"
    }
   ],
   "source": [
    "# 1 is for row wise\n",
    "# -1 and +1 both are same\n",
    "\n",
    "# Middle elements of y (sort the element first)\n",
    "np.median(y, axis=-1)  # last axis"
   ]
  },
  {
   "cell_type": "code",
   "execution_count": 34,
   "id": "7f31b520",
   "metadata": {},
   "outputs": [
    {
     "data": {
      "text/plain": [
       "0.82915619758885"
      ]
     },
     "execution_count": 34,
     "metadata": {},
     "output_type": "execute_result"
    }
   ],
   "source": [
    "x.std()  # Full population standard dev."
   ]
  },
  {
   "cell_type": "markdown",
   "id": "03e75c32",
   "metadata": {},
   "source": [
    "**Example:**\n",
    "\n",
    "\n",
    "\n",
    "Data in **population.txt** describes the populations of hares and lynxes (and carrots) in northern Canada during 20 years.\n",
    "\n"
   ]
  },
  {
   "cell_type": "code",
   "execution_count": 35,
   "id": "31eabe1e",
   "metadata": {},
   "outputs": [],
   "source": [
    "# Load data into numpy array object\n",
    "\n",
    "# default type is 'float64'\n",
    "# 77.4e3 means (77.4 * 10^3)\n",
    "data = np.loadtxt('population.txt')"
   ]
  },
  {
   "cell_type": "code",
   "execution_count": 36,
   "id": "1c82345f",
   "metadata": {},
   "outputs": [
    {
     "data": {
      "text/plain": [
       "array([[ 1900., 30000.,  4000., 48300.],\n",
       "       [ 1901., 47200.,  6100., 48200.],\n",
       "       [ 1902., 70200.,  9800., 41500.],\n",
       "       [ 1903., 77400., 35200., 38200.],\n",
       "       [ 1904., 36300., 59400., 40600.]])"
      ]
     },
     "execution_count": 36,
     "metadata": {},
     "output_type": "execute_result"
    }
   ],
   "source": [
    "data"
   ]
  },
  {
   "cell_type": "code",
   "execution_count": 37,
   "id": "c236bf2f",
   "metadata": {},
   "outputs": [
    {
     "name": "stdout",
     "output_type": "stream",
     "text": [
      "[1900. 1901. 1902. 1903. 1904.]\n"
     ]
    }
   ],
   "source": [
    "# Transpose of a matrix\n",
    "year, hares, lynxes, carrots = data.T  # columns to variables\n",
    "\n",
    "print(year)"
   ]
  },
  {
   "cell_type": "code",
   "execution_count": 38,
   "id": "631b155e",
   "metadata": {},
   "outputs": [
    {
     "data": {
      "text/plain": [
       "array([[30000.,  4000., 48300.],\n",
       "       [47200.,  6100., 48200.],\n",
       "       [70200.,  9800., 41500.],\n",
       "       [77400., 35200., 38200.],\n",
       "       [36300., 59400., 40600.]])"
      ]
     },
     "execution_count": 38,
     "metadata": {},
     "output_type": "execute_result"
    }
   ],
   "source": [
    "# The mean population over time\n",
    "\n",
    "# data[take_all_the_rows, from_first_column_onwards]\n",
    "populations = data[:, 1:]\n",
    "populations"
   ]
  },
  {
   "cell_type": "code",
   "execution_count": 39,
   "id": "3a7facef",
   "metadata": {},
   "outputs": [
    {
     "data": {
      "text/plain": [
       "array([18599.39783972, 21422.41816416,  4135.98839457])"
      ]
     },
     "execution_count": 39,
     "metadata": {},
     "output_type": "execute_result"
    }
   ],
   "source": [
    "# Sample standard deviations\n",
    "\n",
    "# computes by cols because of axis=0\n",
    "populations.std(axis=0)"
   ]
  },
  {
   "cell_type": "code",
   "execution_count": 41,
   "id": "24575ad1",
   "metadata": {},
   "outputs": [
    {
     "data": {
      "text/plain": [
       "array([2, 2, 0, 0, 1], dtype=int64)"
      ]
     },
     "execution_count": 41,
     "metadata": {},
     "output_type": "execute_result"
    }
   ],
   "source": [
    "# Which 'species' has the highest population each year?\n",
    "\n",
    "# operates row-wise \n",
    "# largest among (col1, col2, col3) for this operation\n",
    "np.argmax(populations, axis=1)  # returns index of largest value"
   ]
  },
  {
   "cell_type": "code",
   "execution_count": null,
   "id": "aa5488cd",
   "metadata": {},
   "outputs": [],
   "source": []
  }
 ],
 "metadata": {
  "kernelspec": {
   "display_name": "Python 3 (ipykernel)",
   "language": "python",
   "name": "python3"
  },
  "language_info": {
   "codemirror_mode": {
    "name": "ipython",
    "version": 3
   },
   "file_extension": ".py",
   "mimetype": "text/x-python",
   "name": "python",
   "nbconvert_exporter": "python",
   "pygments_lexer": "ipython3",
   "version": "3.9.7"
  }
 },
 "nbformat": 4,
 "nbformat_minor": 5
}
